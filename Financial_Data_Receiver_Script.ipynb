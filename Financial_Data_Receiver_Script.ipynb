{
  "nbformat": 4,
  "nbformat_minor": 0,
  "metadata": {
    "colab": {
      "name": "Financial Data Receiver Script",
      "provenance": [],
      "collapsed_sections": [],
      "authorship_tag": "ABX9TyOmlayjO3XQXxQZUALZQXMO",
      "include_colab_link": true
    },
    "kernelspec": {
      "name": "python3",
      "display_name": "Python 3"
    }
  },
  "cells": [
    {
      "cell_type": "markdown",
      "metadata": {
        "id": "view-in-github",
        "colab_type": "text"
      },
      "source": [
        "<a href=\"https://colab.research.google.com/github/fahmimnalfrzki/Yukbisnis-Financial-Data-Receiver/blob/master/Financial_Data_Receiver_Script.ipynb\" target=\"_parent\"><img src=\"https://colab.research.google.com/assets/colab-badge.svg\" alt=\"Open In Colab\"/></a>"
      ]
    },
    {
      "cell_type": "code",
      "metadata": {
        "id": "5zbHaOwWnZf0",
        "colab_type": "code",
        "colab": {
          "base_uri": "https://localhost:8080/",
          "height": 238
        },
        "outputId": "19945f7a-db29-4cb5-9b5b-cb36cfa6ba55"
      },
      "source": [
        "# @title Detailed financial data on wallet : Customer Transaction, Wallet Top Up, and Withdrawal { display-mode: \"form\" }\n",
        "# @title  { display-mode: \"form\" }\n",
        "\n",
        "print(\"Insert a desire date range: date1 - date2 (format: 'YYYY-MM-DD'. Example: 2020-01-01)\")\n",
        "tgl1 = input(\"Input Date-1: \")\n",
        "tgl2 = input(\"Input Date-2: \")\n",
        "\n",
        "file=input(\"What is the file name? (Please without .xlsx) :\")\n",
        "\n",
        "!pip install sshtunnel\n",
        "!pip install pymysql\n",
        "from sshtunnel import SSHTunnelForwarder\n",
        "import pymysql\n",
        "pymysql.install_as_MySQLdb()\n",
        "import MySQLdb as db\n",
        "import pandas as pd\n",
        "from pandas import ExcelWriter\n",
        "from google.colab import files\n",
        "\n",
        "def query(q):\n",
        "     with SSHTunnelForwarder(\n",
        "          (<Host>, 22702),\n",
        "          ssh_username=<Uname-Restricted>,\n",
        "          ssh_password=<Password-Restricted>,\n",
        "          remote_bind_address=('127.0.0.1', 3636)\n",
        "     ) as server:\n",
        "          conn = db.connect(host='127.0.0.1',\n",
        "          port=server.local_bind_port,\n",
        "          user=<Uname-Restricted>,\n",
        "          passwd=<Password-Restricted>,\n",
        "          db='yb_master')\n",
        "          return pd.read_sql_query(q, conn)\n",
        "\n",
        "pembayaran_konsumen=query(\"select if(date(t_olshops_transactions.timestamp_paid) is null,date(t_olshops_transactions.record_create_timestamp),date(t_olshops_transactions.timestamp_paid)) as Tanggal, t_businesses.title as Merchant,sum(summaries.total_purchasing-summaries.total_rebate+if(summaries.charge_unique_type='add',summaries.charge_unique,summaries.charge_unique*(-1)) +if(summaries.charge_shipment is null,0,summaries.charge_shipment)+charge_aggregator) as Credit, t_escrows_cashflows.description as Transaksi, \\\n",
        "json_value(payments.metadata,'$.bank_name') as Bank, json_value(payments.metadata,'$.account_number') as 'No Rekening' \\\n",
        "from t_olshops_transactions_summaries as summaries \\\n",
        "inner join t_olshops_transactions_payments_banks as payments on summaries.id_olshop_transaction=payments.id_olshop_transaction \\\n",
        "inner join t_olshops_transactions on t_olshops_transactions.id=summaries.id_olshop_transaction \\\n",
        "inner join t_businesses on t_businesses.id=t_olshops_transactions.id_business \\\n",
        "left join t_escrows_cashflows on payments.id_escrow_cashflow=t_escrows_cashflows.id \\\n",
        "where payments.channel='escrow' and t_olshops_transactions.`status` in ('paid','sent','delivered','closed') \\\n",
        "and date(summaries.record_create_timestamp) between '{}' and '{}' \\\n",
        "group by t_olshops_transactions.id \\\n",
        "order by Tanggal\".format(tgl1,tgl2))\n",
        "\n",
        "topup_merchant=query(\"select date(cashflows.record_create_timestamp) as Tanggal, t_businesses.title as Merchant, cashflows.amount as Credit, \\\n",
        "case \\\n",
        "when t_businesses_wallets_topups.unique_code BETWEEN 501 and 560 then 'Registrasi Yubimini' \\\n",
        "when t_businesses_wallets_topups.unique_code BETWEEN 561 and 599 then 'Upgrade Plan Yubimini' \\\n",
        "when t_businesses_wallets_topups.unique_code BETWEEN 701 and 850 then 'Paket Langganan Yubi Pro' \\\n",
        "when t_businesses_wallets_topups.unique_code BETWEEN 851 and 899 then 'Top Up Wallet Member' \\\n",
        "when t_businesses_wallets_topups.unique_code BETWEEN 901 and 999 then 'Top Up Saldo Wallet' \\\n",
        "end as Peruntukan, t_features_rules.label as 'Detail Peruntukan',t_escrows_cashflows.description as Transaksi,t_banks.name_alias as Bank,t_escrows_accounts.account_number as 'No Rekening' \\\n",
        "from t_businesses_wallets_cashflows as cashflows \\\n",
        "inner join t_businesses on cashflows.id_business=t_businesses.id \\\n",
        "inner join t_businesses_wallets_topups on json_value(cashflows.metadata,'$.id_business_wallet_topup')=t_businesses_wallets_topups.id \\\n",
        "left join t_escrows_cashflows on json_value(cashflows.metadata,'$.id_escrow_cashflow')=t_escrows_cashflows.id \\\n",
        "left join t_features_rules on json_value(t_businesses_wallets_topups.metadata,'$.id_feature_rule')=t_features_rules.id \\\n",
        "inner join t_escrows_accounts on t_businesses_wallets_topups.id_escrow_account=t_escrows_accounts.id \\\n",
        "inner join t_banks on t_escrows_accounts.id_bank=t_banks.id \\\n",
        "where date(cashflows.record_create_timestamp) between '{}' and '{}'\".format(tgl1,tgl2))\n",
        "\n",
        "withdrawl=query(\"select date(t_businesses_wallets_withdrawals.record_update_timestamp) as Tanggal,t_businesses.title as Merchant, t_businesses_wallets_withdrawals.amount as Debet,t_banks.name_alias as Bank, t_businesses_banks.account_name as 'Nama Pemilik',t_businesses_banks.account_number as 'No Rekening' \\\n",
        "from t_businesses_wallets_withdrawals \\\n",
        "left join t_businesses on t_businesses_wallets_withdrawals.id_business=t_businesses.id \\\n",
        "left join t_businesses_banks on t_businesses_wallets_withdrawals.id_business_bank=t_businesses_banks.id \\\n",
        "left join t_banks on t_businesses_banks.id_bank=t_banks.id \\\n",
        "where date(t_businesses_wallets_withdrawals.record_update_timestamp) between '{}' and '{}' \\\n",
        "and t_businesses_wallets_withdrawals.`status`='paid' \\\n",
        "order by t_businesses_wallets_withdrawals.record_update_timestamp\".format(tgl1,tgl2))\n",
        "\n",
        "writer = ExcelWriter('{}.xlsx'.format(file))\n",
        "pembayaran_konsumen.to_excel(writer,'Pembayaran Konsumen',index=False)\n",
        "topup_merchant.to_excel(writer,'Top Up Merchant',index=False)\n",
        "withdrawl.to_excel(writer,'Withdrawl Merchant',index=False)\n",
        "writer.save()\n",
        "files.download('{}.xlsx'.format(file))"
      ],
      "execution_count": null,
      "outputs": [
        {
          "output_type": "stream"
          "name": "stdout"
        },
        {
          "output_type": "display_data",
          "data": {
            "application/javascript": [
              "\n",
              "    async function download(id, filename, size) {\n",
              "      if (!google.colab.kernel.accessAllowed) {\n",
              "        return;\n",
              "      }\n",
              "      const div = document.createElement('div');\n",
              "      const label = document.createElement('label');\n",
              "      label.textContent = `Downloading \"${filename}\": `;\n",
              "      div.appendChild(label);\n",
              "      const progress = document.createElement('progress');\n",
              "      progress.max = size;\n",
              "      div.appendChild(progress);\n",
              "      document.body.appendChild(div);\n",
              "\n",
              "      const buffers = [];\n",
              "      let downloaded = 0;\n",
              "\n",
              "      const channel = await google.colab.kernel.comms.open(id);\n",
              "      // Send a message to notify the kernel that we're ready.\n",
              "      channel.send({})\n",
              "\n",
              "      for await (const message of channel.messages) {\n",
              "        // Send a message to notify the kernel that we're ready.\n",
              "        channel.send({})\n",
              "        if (message.buffers) {\n",
              "          for (const buffer of message.buffers) {\n",
              "            buffers.push(buffer);\n",
              "            downloaded += buffer.byteLength;\n",
              "            progress.value = downloaded;\n",
              "          }\n",
              "        }\n",
              "      }\n",
              "      const blob = new Blob(buffers, {type: 'application/binary'});\n",
              "      const a = document.createElement('a');\n",
              "      a.href = window.URL.createObjectURL(blob);\n",
              "      a.download = filename;\n",
              "      div.appendChild(a);\n",
              "      a.click();\n",
              "      div.remove();\n",
              "    }\n",
              "  "
            ],
            "text/plain": [
              "<IPython.core.display.Javascript object>"
            ]
          },
          "metadata": {
            "tags": []
          }
        },
        {
          "output_type": "display_data",
          "data": {
            "application/javascript": [
              "download(\"download_933fa7c7-3ac8-44fc-b5e2-b6b70c53308d\", \"Juni 2020.xlsx\", 239792)"
            ],
            "text/plain": [
              "<IPython.core.display.Javascript object>"
            ]
          },
          "metadata": {
            "tags": []
          }
        }
      ]
    }
  ]
}
